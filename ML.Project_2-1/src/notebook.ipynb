{
 "cells": [
  {
   "cell_type": "markdown",
   "metadata": {},
   "source": [
    "<h2>Аналитическое решение задачи о регрессии</h2>"
   ]
  },
  {
   "cell_type": "markdown",
   "metadata": {},
   "source": [
    "\n",
    "$$\n",
    "\\hat{\\beta} = (X^T X)^{-1} X^T Y\n",
    "\n",
    "$$"
   ]
  },
  {
   "cell_type": "markdown",
   "metadata": {},
   "source": [
    "Результат - вектор коэффициентов, который наилучшим образом аппроксимирует зависимость между X и Y в смысле минимализации суммы квадратов ошибок. Этот метод известен как метод наименьших квадратов."
   ]
  },
  {
   "cell_type": "markdown",
   "metadata": {},
   "source": [
    "<h2>Регуляризация</h2>"
   ]
  },
  {
   "cell_type": "markdown",
   "metadata": {},
   "source": [
    "Регуляризация — это техника, используемая в машинном обучении для предотвращения переобучения модели. В частности, регуляризация L1 и L2 помогают управлять сложностью модели и улучшать её обобщающую способность путем добавления штрафов к параметрам модели."
   ]
  },
  {
   "cell_type": "markdown",
   "metadata": {},
   "source": [
    "Сравнение L1 и L2\n",
    "\n",
    " - L2 регуляризация делает все коэффициенты небольшими, но ненулевыми, что полезно для стабилизации модели и борьбы с мультиколлинеарностью.\n",
    " - L1 регуляризация устанавливает некоторые коэффициенты в ноль, что делает её эффективным инструментом для выбора признаков и работы с разреженными моделями.\n",
    " \n",
    "Выбор между L1 и L2 зависит от конкретной задачи. Если целью является выбор небольшого числа значимых признаков, предпочтительнее использовать L1. Если важно сохранить все признаки, но контролировать их влияние, лучше подойдет L2."
   ]
  },
  {
   "cell_type": "markdown",
   "metadata": {},
   "source": [
    "<h2>Использование тех же моделей для подбора нелинейных зависимостей</h2>"
   ]
  },
  {
   "cell_type": "markdown",
   "metadata": {},
   "source": [
    "Чтобы применить линейные методы (например, линейную регрессию, Ridge, Lasso) для моделирования нелинейных зависимостей, нужно преобразовать исходные данные в новые признаки, которые будут отражать нелинейность. Например, можно добавить полиномиальные члены, взаимодействия признаков или другие нелинейные преобразования."
   ]
  },
  {
   "cell_type": "markdown",
   "metadata": {},
   "source": [
    "Допусти у нас есть два признака X1 и X2. Мы можем создать новые признаки следующим образом:\n",
    "\n",
    "- Полиномиальные термины x1^2, x2^2, x1, x2\n",
    "- Логарифмические преобразования: log(x1)\n",
    "- Другие нелинейные функции: sin(x), cos(x)"
   ]
  },
  {
   "cell_type": "markdown",
   "metadata": {},
   "source": [
    "Затем мы применяем линейные модели к новым признакам, что позволяет учесть нелинейные зависимости между исходными признаками и целевой переменной.\n",
    "\n",
    "Этот подход называется **полиномиальной регрессией**, и он широко применяется в машинном обучении для построения сложных моделей на основе простых линейных методов."
   ]
  },
  {
   "cell_type": "markdown",
   "metadata": {},
   "source": [
    "<h2>Вводный анализ данных</h2>"
   ]
  },
  {
   "cell_type": "code",
   "execution_count": 1,
   "metadata": {},
   "outputs": [],
   "source": [
    "import pandas as pd\n",
    "import numpy as np\n",
    "from collections import Counter\n",
    "from sklearn.model_selection import train_test_split\n",
    "from sklearn.preprocessing import MinMaxScaler, StandardScaler\n",
    "from sklearn.linear_model import LinearRegression, Ridge, Lasso, ElasticNet\n",
    "from sklearn.metrics import mean_absolute_error, mean_squared_error, r2_score\n",
    "from sklearn.preprocessing import PolynomialFeatures"
   ]
  },
  {
   "cell_type": "code",
   "execution_count": 2,
   "metadata": {},
   "outputs": [],
   "source": [
    "data = pd.read_json('train.json')\n",
    "upper_perc = np.percentile(data['price'], 99)\n",
    "lower_perc = np.percentile(data['price'], 1)\n",
    "\n",
    "data = data[(data['price'] < upper_perc) & (data['price'] > lower_perc)]\n",
    "data = data.reset_index(drop=True)"
   ]
  },
  {
   "cell_type": "code",
   "execution_count": 3,
   "metadata": {},
   "outputs": [],
   "source": [
    "data['interest_level'] = data['interest_level'].map({'low': 0, 'medium' : 1, 'high' : 2})"
   ]
  },
  {
   "cell_type": "code",
   "execution_count": 4,
   "metadata": {},
   "outputs": [],
   "source": [
    "data['features'] = data['features'].apply(lambda x: [item.replace('[', '').replace(']', '').replace(\"'\", \"\").replace('\"', '').replace(' ', '') for item in x])"
   ]
  },
  {
   "cell_type": "code",
   "execution_count": 5,
   "metadata": {},
   "outputs": [
    {
     "data": {
      "text/plain": [
       "['Elevator',\n",
       " 'HardwoodFloors',\n",
       " 'CatsAllowed',\n",
       " 'DogsAllowed',\n",
       " 'Doorman',\n",
       " 'Dishwasher',\n",
       " 'NoFee',\n",
       " 'LaundryinBuilding',\n",
       " 'FitnessCenter',\n",
       " 'Pre-War',\n",
       " 'LaundryinUnit',\n",
       " 'RoofDeck',\n",
       " 'OutdoorSpace',\n",
       " 'DiningRoom',\n",
       " 'HighSpeedInternet',\n",
       " 'Balcony',\n",
       " 'SwimmingPool',\n",
       " 'LaundryInBuilding',\n",
       " 'NewConstruction',\n",
       " 'Terrace']"
      ]
     },
     "execution_count": 5,
     "metadata": {},
     "output_type": "execute_result"
    }
   ],
   "source": [
    "all_features = []\n",
    "for row in data['features']:\n",
    "    all_features.extend(row)\n",
    "feature_counts = Counter(all_features)\n",
    "top_features = [feature for feature, count in feature_counts.most_common(20)]\n",
    "top_features"
   ]
  },
  {
   "cell_type": "code",
   "execution_count": 6,
   "metadata": {},
   "outputs": [],
   "source": [
    "for feature in top_features:\n",
    "    data[feature] = data['features'].apply(lambda x: int(feature in x))\n",
    "feature_list = ['bathrooms', 'bedrooms', 'interest_level'] + top_features\n",
    "X = data[feature_list]\n",
    "y = data['price']"
   ]
  },
  {
   "cell_type": "code",
   "execution_count": 7,
   "metadata": {},
   "outputs": [],
   "source": [
    "X = np.array(X)\n",
    "y = np.array(y)\n",
    "X_train, X_test, y_train, y_test = train_test_split(X, y, test_size=0.2, random_state=21)"
   ]
  },
  {
   "cell_type": "markdown",
   "metadata": {},
   "source": [
    "<h2>Реализация моделей - линейная регрессия</h2>"
   ]
  },
  {
   "cell_type": "code",
   "execution_count": 8,
   "metadata": {},
   "outputs": [],
   "source": [
    "class BaseLinearRegression:\n",
    "    def __init__(self, learning_rate=0.01, epochs=100):\n",
    "        \"\"\"\n",
    "        Базовый класс для всех линейных регрессий.\n",
    "        :param learning_rate: скорость обучения (по умолчанию 0.01).\n",
    "        :param epochs: количество эпох обучения (по умолчанию 1000).\n",
    "        \"\"\"\n",
    "        self.learning_rate = learning_rate\n",
    "        self.epochs = epochs\n",
    "        self.w = None  # Веса модели\n",
    "        self.w = None  # Веса модели\n",
    "    \n",
    "    def _add_bias(self, X):\n",
    "        \"\"\"\n",
    "        Добавляет столбец единиц к матрице признаков для свободного члена.\n",
    "        :param X: матрица признаков (n_samples, n_features).\n",
    "        :return: матрица с добавленным столбцом единиц.\n",
    "        \"\"\"\n",
    "        return np.c_[np.ones((X.shape[0], 1)), X]\n",
    "    \n",
    "    def predict(self, X):\n",
    "        \"\"\"\n",
    "        Предсказание значений на основе обученной модели.\n",
    "        :param X: матрица признаков (n_samples, n_features).\n",
    "        :return: вектор предсказанных значений (n_samples,).\n",
    "        \"\"\"\n",
    "        if self.w is None:\n",
    "            raise ValueError(\"Модель не обучена. Сначала вызовите метод fit.\")\n",
    "        X_b = self._add_bias(X)\n",
    "        return X_b.dot(self.w)\n"
   ]
  },
  {
   "cell_type": "code",
   "execution_count": 9,
   "metadata": {},
   "outputs": [],
   "source": [
    "class MyLinearRegression(BaseLinearRegression):\n",
    "    def fit(self, X, y):\n",
    "        \"\"\" \n",
    "        Обучение модели линейной регрессии без регуляризации.\n",
    "        :param X: матрица признаков (n_samples, n_features)\n",
    "        :param y: вектор целевых значение(n_samples)\n",
    "        \"\"\"\n",
    "        X_b = self._add_bias(X)\n",
    "        self.w = np.linalg.pinv(X_b.T.dot(X_b)).dot(X_b.T).dot(y)"
   ]
  },
  {
   "cell_type": "markdown",
   "metadata": {},
   "source": [
    "<h2>Реализация регуляризованных моделей — Ridge, Lasso, ElasticNet</h2>"
   ]
  },
  {
   "cell_type": "code",
   "execution_count": 10,
   "metadata": {},
   "outputs": [],
   "source": [
    "class MyRidgeRegression(BaseLinearRegression):\n",
    "    def fit(self, X, y, alpha = 0.1):\n",
    "        \"\"\"\n",
    "        Обучение модели Ridge-регрессии (L2-регуляризации).\n",
    "        :param X: матрица признаков(n_samples, n_features).\n",
    "        :param y: вектор целевых значений(n_samples)\n",
    "        :param alpha: коэффициент регуляризации (по умолчанию 0.1)\n",
    "        \"\"\"\n",
    "        X_b = self._add_bias(X)\n",
    "        self.w = np.zeros(X_b.shape[1])\n",
    "\n",
    "        for _ in range(self.epochs):\n",
    "            for i in range(X_b.shape[0]):\n",
    "                error = y[i] - X_b[i].dot(self.w)\n",
    "                self.w += self.learning_rate * (error * X_b[i] - alpha * self.w)\n",
    "\n",
    "class MyLassoRegression(BaseLinearRegression):\n",
    "    def fit(self, X, y, alpha = 0.1):\n",
    "        X_b = self._add_bias(X)\n",
    "        self.w = np.zeros(X_b.shape[1])\n",
    "\n",
    "        for _ in range(self.epochs):\n",
    "            for i in range(X_b.shape[0]):\n",
    "                error = y[i] - X_b[i].dot(self.w)\n",
    "                l1_grad = np.sign(self.w)\n",
    "                self.w += self.learning_rate * (error * X_b[i] - alpha * l1_grad)\n",
    "\n",
    "class MyElasticNet(BaseLinearRegression):\n",
    "    def fit(self, X, y, alpha = 0.1, rho = 0.5):\n",
    "        X_b = self._add_bias(X)\n",
    "        self.w = np.zeros(X_b.shape[1])\n",
    "\n",
    "        for _ in range(self.epochs):\n",
    "            for i in range(X_b.shape[0]):\n",
    "                error = y[i] - X_b[i].dot(self.w)\n",
    "                l1_grad = np.sign(self.w)\n",
    "                l2_grad = self.w\n",
    "                self.w += self.learning_rate * ( error * X_b[i] - alpha * rho * l1_grad - alpha * (1 - rho) * l2_grad)"
   ]
  },
  {
   "cell_type": "markdown",
   "metadata": {},
   "source": [
    "<h2>Реализация функций MAE, RMSE, R2</h2>"
   ]
  },
  {
   "cell_type": "code",
   "execution_count": 11,
   "metadata": {},
   "outputs": [],
   "source": [
    "def my_mean_absolute_error(y_train, y_pred):\n",
    "    \"\"\"\n",
    "    Вычисляет среднюю абсолютную ошибку (MAE)\n",
    "    \"\"\"\n",
    "    if len(y_train) != len(y_pred):\n",
    "        raise ValueError(\"Переданы некорректные аргументы\")\n",
    "    \n",
    "    return np.mean(np.abs(np.array(y_train) - np.array(y_pred)))\n",
    "def my_mean_squared_errror(y_train, y_pred):\n",
    "    \"\"\" \n",
    "    Выичсляет корень из средней квадратичной ошибки\n",
    "    \"\"\"\n",
    "    if len(y_train) != len(y_pred):\n",
    "        raise ValueError(\"Переданы некорректные аргументы\")\n",
    "    squared_errors = (np.array(y_train) - np.array(y_pred)) ** 2\n",
    "    mean_squared_error = np.mean(squared_errors)\n",
    "    return mean_squared_error\n",
    "\n",
    "def my_r2_score(y_train, y_pred):\n",
    "    \"\"\" \n",
    "    Вычисляет коэффициент детерминации R^2\n",
    "    \"\"\"\n",
    "    if len(y_train) != len(y_pred):\n",
    "        raise ValueError(\"Переданы некорректные аргументы\")\n",
    "    y_train = np.array(y_train)\n",
    "    y_pred = np.array(y_pred)\n",
    "    y_mean = np.mean(y_train)\n",
    "    ss_res = np.sum((y_train - y_pred) ** 2)\n",
    "    ss_tot = np.sum((y_train - y_mean)**2)\n",
    "    r2 = 1 - (ss_res / ss_tot)\n",
    "    return r2"
   ]
  },
  {
   "cell_type": "markdown",
   "metadata": {},
   "source": [
    "<h2>Нормализация функций - MinMaxScaler, StandartScaler</h2>"
   ]
  },
  {
   "cell_type": "markdown",
   "metadata": {},
   "source": [
    "<h3>Нормализация и масштабирование признаков - это процесс прееобразования данных в одинаковый диапазон или с одинаковой дисперсией. Это важно для многих алгоритмов машинного обучения, так как они могут быть чувствительны к различиям в масштабе признаков</h3>"
   ]
  },
  {
   "cell_type": "markdown",
   "metadata": {},
   "source": [
    "Нормализация обязательна:\n",
    "- Градиентный спуск. Потому что градиентный спуск использует производные для обновления весов. Если признаки имеют разные масштабы, то шаги градиентного спуска по каждому признаку будут несбалансированными, что замедляет сходимость. ПРИМЕР: признаки [возраст] (от 0 до 100) и [доход] (от 0 до 1000000). Без нормализации доход будет доминировать в градиентном спуске. \n",
    "Нормализация необязательна:\n",
    "- Деревья решений. Деревья решений ( например случайный лес ) работают с порогами разбиения, а не с абсолютными значениями признаков. Масштаб данных не влияет на работу этих алгоритмов "
   ]
  },
  {
   "cell_type": "markdown",
   "metadata": {},
   "source": [
    "### Формула MinMaxScaler\n",
    "\n",
    "Формула для нормализации данных в диапазон $[a, b]$ с использованием MinMaxScaler:\n",
    "\n",
    "$$\n",
    "x' = a + \\frac{(x - x_{\\text{min}}) \\cdot (b - a)}{x_{\\text{max}} - x_{\\text{min}}}\n",
    "$$\n",
    "\n",
    "где:\n",
    "- $x$ — исходное значение признака,\n",
    "- $x_{\\text{min}}$ — минимальное значение признака в наборе данных,\n",
    "- $x_{\\text{max}}$ — максимальное значение признака в наборе данных,\n",
    "- $x'$ — нормализованное значение,\n",
    "- $[a, b]$ — целевой диапазон значений (по умолчанию $[0, 1]$)."
   ]
  },
  {
   "cell_type": "markdown",
   "metadata": {},
   "source": [
    "### Формула StandardScaler\n",
    "\n",
    "Формула для стандартизации данных с использованием StandardScaler:\n",
    "\n",
    "$$\n",
    "x' = \\frac{x - \\mu}{\\sigma}\n",
    "$$\n",
    "\n",
    "где:\n",
    "- $x$ — исходное значение признака,\n",
    "- $\\mu$ — среднее значение признака в наборе данных,\n",
    "- $\\sigma$ — стандартное отклонение признака в наборе данных,\n",
    "- $x'$ — стандартизированное значение."
   ]
  },
  {
   "cell_type": "code",
   "execution_count": 12,
   "metadata": {},
   "outputs": [],
   "source": [
    "class MyMinMaxScaler:\n",
    "    def __init__(self, feature_range=(0, 1)):\n",
    "        \"\"\"\n",
    "        Инициализация MinMaxScaler.\n",
    "        \n",
    "        :param feature_range: кортеж (min, max), задающий новый диапазон значений.\n",
    "        \"\"\"\n",
    "        self.feature_range = feature_range\n",
    "        self.min_ = None\n",
    "        self.scale_ = None\n",
    "\n",
    "    def fit(self, X):\n",
    "        \"\"\"\n",
    "        Вычисление минимальных и максимальных значений для каждого признака.\n",
    "        \n",
    "        :param X: массив данных (numpy array).\n",
    "        \"\"\"\n",
    "        X = np.array(X)\n",
    "        self.min_ = np.min(X, axis=0)\n",
    "        self.scale_ = (self.feature_range[1] - self.feature_range[0]) / (np.max(X, axis=0) - self.min_)\n",
    "        self.scale_[np.isinf(self.scale_)] = 1  # Защита от деления на ноль\n",
    "\n",
    "    def transform(self, X):\n",
    "        \"\"\"\n",
    "        Нормализация данных в заданный диапазон.\n",
    "        :param X: массив данных (numpy array).\n",
    "        :return: нормализованный массив.\n",
    "        \"\"\"\n",
    "        if self.min_ is None or self.scale_ is None:\n",
    "            raise ValueError(\"Метод fit должен быть вызван перед transform.\")\n",
    "        X_scaled = self.feature_range[0] + (X - self.min_) * self.scale_\n",
    "        return X_scaled\n",
    "\n",
    "    def fit_transform(self, X):\n",
    "        \"\"\"\n",
    "        Объединение fit и transform.\n",
    "        :param X: массив данных (numpy array).\n",
    "        :return: нормализованный массив.\n",
    "        \"\"\"\n",
    "        self.fit(X)\n",
    "        return self.transform(X)"
   ]
  },
  {
   "cell_type": "code",
   "execution_count": 13,
   "metadata": {},
   "outputs": [],
   "source": [
    "class MyStandardScaler:\n",
    "    def __init__(self):\n",
    "        \"\"\"\n",
    "        Инициализация StandardScaler.\n",
    "        \"\"\"\n",
    "        self.mean_ = None\n",
    "        self.scale_ = None\n",
    "\n",
    "    def fit(self, X):\n",
    "        \"\"\"\n",
    "        Вычисление средних значений и стандартных отклонений для каждого признака.\n",
    "        \n",
    "        :param X: массив данных (numpy array).\n",
    "        \"\"\"\n",
    "        X = np.array(X)\n",
    "        self.mean_ = np.mean(X, axis=0)\n",
    "        self.scale_ = np.std(X, axis=0)\n",
    "        self.scale_[self.scale_ == 0] = 1  # Защита от деления на ноль\n",
    "\n",
    "    def transform(self, X):\n",
    "        \"\"\"\n",
    "        Стандартизация данных.\n",
    "        \n",
    "        :param X: массив данных (numpy array).\n",
    "        :return: стандартизованный массив.\n",
    "        \"\"\"\n",
    "        if self.mean_ is None or self.scale_ is None:\n",
    "            raise ValueError(\"Метод fit должен быть вызван перед transform.\")\n",
    "        X_scaled = (X - self.mean_) / self.scale_\n",
    "        return X_scaled\n",
    "\n",
    "    def fit_transform(self, X):\n",
    "        \"\"\"\n",
    "        Объединение fit и transform.\n",
    "        \n",
    "        :param X: массив данных (numpy array).\n",
    "        :return: стандартизованный массив.\n",
    "        \"\"\"\n",
    "        self.fit(X)\n",
    "        return self.transform(X)"
   ]
  },
  {
   "cell_type": "code",
   "execution_count": 14,
   "metadata": {},
   "outputs": [],
   "source": [
    "def evaluate_model(model, X_train, y_train, X_test, y_test):\n",
    "    model.fit(X_train, y_train)\n",
    "    y_train_pred = model.predict(X_train)\n",
    "    y_test_pred = model.predict(X_test)\n",
    "\n",
    "    mae_train = mean_absolute_error(y_train, y_train_pred)\n",
    "    mae_test = mean_absolute_error(y_test, y_test_pred)\n",
    "\n",
    "    rmse_train = np.sqrt(mean_squared_error(y_train, y_train_pred))\n",
    "    rmse_test = np.sqrt(mean_squared_error(y_test, y_test_pred))\n",
    "\n",
    "    r2_train = r2_score(y_train, y_train_pred)\n",
    "    r2_test = r2_score(y_test, y_test_pred)\n",
    "\n",
    "    return mae_train, mae_test, rmse_train, rmse_test, r2_train, r2_test"
   ]
  },
  {
   "cell_type": "code",
   "execution_count": 15,
   "metadata": {},
   "outputs": [],
   "source": [
    "result_MAE = pd.DataFrame(columns=['model', 'train', 'test'])\n",
    "result_RMSE = pd.DataFrame(columns = ['model', 'train', 'test'])\n",
    "result_R2 = pd.DataFrame(columns=['model', 'train', 'test'])"
   ]
  },
  {
   "cell_type": "code",
   "execution_count": 16,
   "metadata": {},
   "outputs": [],
   "source": [
    "linreg = LinearRegression()\n",
    "mae_train, mae_test, rmse_train, rmse_test, r2_train, r2_test = evaluate_model(linreg, X_train, y_train, X_test, y_test)\n",
    "result_MAE.loc[len(result_MAE)] = ['Linreg_default', mae_train, mae_test]\n",
    "result_RMSE.loc[len(result_RMSE)] = ['Linreg_default', rmse_train, rmse_test]\n",
    "result_R2.loc[len(result_R2)] = ['Linreg_default', r2_train, r2_test]\n"
   ]
  },
  {
   "cell_type": "code",
   "execution_count": 17,
   "metadata": {},
   "outputs": [],
   "source": [
    "ridgereg = Ridge()\n",
    "mae_train, mae_test, rmse_train, rmse_test, r2_train, r2_test = evaluate_model(ridgereg, X_train, y_train, X_test, y_test)\n",
    "result_MAE.loc[len(result_MAE)] = ['Ridge_default', mae_train, mae_test]\n",
    "result_RMSE.loc[len(result_RMSE)] = ['Ridge_default', rmse_train, rmse_test]\n",
    "result_R2.loc[len(result_R2)] = ['Ridge_default', r2_train, r2_test]"
   ]
  },
  {
   "cell_type": "code",
   "execution_count": 18,
   "metadata": {},
   "outputs": [],
   "source": [
    "lassoreg = Lasso()\n",
    "mae_train, mae_test, rmse_train, rmse_test, r2_train, r2_test = evaluate_model(lassoreg, X_train, y_train, X_test, y_test)\n",
    "result_MAE.loc[len(result_MAE)] = ['Lasso_default', mae_train, mae_test]\n",
    "result_RMSE.loc[len(result_RMSE)] = ['Lasso_default', rmse_train, rmse_test]\n",
    "result_R2.loc[len(result_R2)] = ['Lasso_default', r2_train, r2_test]"
   ]
  },
  {
   "cell_type": "code",
   "execution_count": 19,
   "metadata": {},
   "outputs": [],
   "source": [
    "elastreg = ElasticNet()\n",
    "mae_train, mae_test, rmse_train, rmse_test, r2_train, r2_test = evaluate_model(elastreg, X_train, y_train, X_test, y_test)\n",
    "result_MAE.loc[len(result_MAE)] = ['ElasticNet_default', mae_train, mae_test]\n",
    "result_RMSE.loc[len(result_RMSE)] = ['ElasticNet_default', rmse_train, rmse_test]\n",
    "result_R2.loc[len(result_R2)] = ['ElasticNet_default', r2_train, r2_test]"
   ]
  },
  {
   "cell_type": "markdown",
   "metadata": {},
   "source": [
    "<h2>Реализация моделей с MinMaxScaler</h2>"
   ]
  },
  {
   "cell_type": "code",
   "execution_count": 20,
   "metadata": {},
   "outputs": [],
   "source": [
    "minmax = MinMaxScaler()\n",
    "X_train_min_max = minmax.fit_transform(X_train)\n",
    "X_test_min_max = minmax.transform(X_test)"
   ]
  },
  {
   "cell_type": "code",
   "execution_count": 21,
   "metadata": {},
   "outputs": [],
   "source": [
    "linreg = LinearRegression()\n",
    "mae_train, mae_test, rmse_train, rmse_test, r2_train, r2_test = evaluate_model(linreg, X_train_min_max, y_train, X_test_min_max, y_test)\n",
    "result_MAE.loc[len(result_MAE)] = ['Linear MinMaxScaler', mae_train, mae_test]\n",
    "result_RMSE.loc[len(result_RMSE)] = ['Linear MinMaxScaler', rmse_train, rmse_test]\n",
    "result_R2.loc[len(result_R2)] = ['Linear MinMaxScaler', r2_train, r2_test]"
   ]
  },
  {
   "cell_type": "code",
   "execution_count": 22,
   "metadata": {},
   "outputs": [],
   "source": [
    "ridgereg = Ridge()\n",
    "mae_train, mae_test, rmse_train, rmse_test, r2_train, r2_test = evaluate_model(ridgereg, X_train_min_max, y_train, X_test_min_max, y_test)\n",
    "result_MAE.loc[len(result_MAE)] = ['Ridge MinMaxScaler', mae_train, mae_test]\n",
    "result_RMSE.loc[len(result_RMSE)] = ['Ridge MinMaxScaler', rmse_train, rmse_test]\n",
    "result_R2.loc[len(result_R2)] = ['Ridge MinMaxScaler', r2_train, r2_test]"
   ]
  },
  {
   "cell_type": "code",
   "execution_count": 23,
   "metadata": {},
   "outputs": [],
   "source": [
    "lassoreg = Lasso()\n",
    "mae_train, mae_test, rmse_train, rmse_test, r2_train, r2_test = evaluate_model(lassoreg, X_train_min_max, y_train, X_test_min_max, y_test)\n",
    "result_MAE.loc[len(result_MAE)] = ['Lasso MinMaxScaler', mae_train, mae_test]\n",
    "result_RMSE.loc[len(result_RMSE)] = ['Lasso MinMaxScaler', rmse_train, rmse_test]\n",
    "result_R2.loc[len(result_R2)] = ['Lasso MinMaxScaler', r2_train, r2_test]"
   ]
  },
  {
   "cell_type": "code",
   "execution_count": 24,
   "metadata": {},
   "outputs": [],
   "source": [
    "lassoreg= ElasticNet()\n",
    "mae_train, mae_test, rmse_train, rmse_test, r2_train, r2_test = evaluate_model(lassoreg, X_train_min_max, y_train, X_test_min_max, y_test)\n",
    "result_MAE.loc[len(result_MAE)] = ['ElasticNet MinMaxScaler', mae_train, mae_test]\n",
    "result_RMSE.loc[len(result_RMSE)] = ['ElasticNet MinMaxScaler', rmse_train, rmse_test]\n",
    "result_R2.loc[len(result_R2)] = ['ElasticNet MinMaxScaler', r2_train, r2_test]"
   ]
  },
  {
   "cell_type": "markdown",
   "metadata": {},
   "source": [
    "<h2>Реализация моделей Standart Scaler</h2>"
   ]
  },
  {
   "cell_type": "code",
   "execution_count": 25,
   "metadata": {},
   "outputs": [],
   "source": [
    "stand_scaler = StandardScaler()\n",
    "X_train_scaler = stand_scaler.fit_transform(X_train)\n",
    "X_test_scaler = stand_scaler.transform(X_test)"
   ]
  },
  {
   "cell_type": "code",
   "execution_count": 26,
   "metadata": {},
   "outputs": [],
   "source": [
    "linreg = LinearRegression()\n",
    "mae_train, mae_test, rmse_train, rmse_test, r2_train, r2_test = evaluate_model(linreg, X_train_scaler, y_train, X_test_scaler, y_test)\n",
    "result_MAE.loc[len(result_MAE)] = ['Linear StandartScaler', mae_train, mae_test]\n",
    "result_RMSE.loc[len(result_RMSE)] = ['Linear StandartScaler', rmse_train, rmse_test]\n",
    "result_R2.loc[len(result_R2)] = ['Linear StandartScaler', r2_train, r2_test]"
   ]
  },
  {
   "cell_type": "code",
   "execution_count": 27,
   "metadata": {},
   "outputs": [],
   "source": [
    "ridgereg = Ridge()\n",
    "mae_train, mae_test, rmse_train, rmse_test, r2_train, r2_test = evaluate_model(ridgereg, X_train_scaler, y_train, X_test_scaler, y_test)\n",
    "result_MAE.loc[len(result_MAE)] = ['Ridge StandartScaler', mae_train, mae_test]\n",
    "result_RMSE.loc[len(result_RMSE)] = ['Ridge StandartScaler', rmse_train, rmse_test]\n",
    "result_R2.loc[len(result_R2)] = ['Ridge StandartScaler', r2_train, r2_test]"
   ]
  },
  {
   "cell_type": "code",
   "execution_count": 28,
   "metadata": {},
   "outputs": [],
   "source": [
    "lassoreg = Lasso()\n",
    "mae_train, mae_test, rmse_train, rmse_test, r2_train, r2_test = evaluate_model(lassoreg, X_train_scaler, y_train, X_test_scaler, y_test)\n",
    "result_MAE.loc[len(result_MAE)] = ['Lasso StandartScaler', mae_train, mae_test]\n",
    "result_RMSE.loc[len(result_RMSE)] = ['Lasso StandartScaler', rmse_train, rmse_test]\n",
    "result_R2.loc[len(result_R2)] = ['Lasso StandartScaler', r2_train, r2_test]"
   ]
  },
  {
   "cell_type": "code",
   "execution_count": 29,
   "metadata": {},
   "outputs": [],
   "source": [
    "elastreg = ElasticNet()\n",
    "mae_train, mae_test, rmse_train, rmse_test, r2_train, r2_test = evaluate_model(elastreg, X_train_scaler, y_train, X_test_scaler, y_test)\n",
    "result_MAE.loc[len(result_MAE)] = ['ElasticNet StandartScaler', mae_train, mae_test]\n",
    "result_RMSE.loc[len(result_RMSE)] = ['ElasticNet StandartScaler', rmse_train, rmse_test]\n",
    "result_R2.loc[len(result_R2)] = ['ElasticNet StandartScaler', r2_train, r2_test]"
   ]
  },
  {
   "cell_type": "markdown",
   "metadata": {},
   "source": [
    "<h2>Модели с избыточной посадкой</h2>"
   ]
  },
  {
   "cell_type": "code",
   "execution_count": 30,
   "metadata": {},
   "outputs": [],
   "source": [
    "q1 = data['price'].quantile(0.01)\n",
    "q99 = data['price'].quantile(0.99)\n",
    "data = data[(data['price'] >= q1) & (data['price'] <= q99)]\n",
    "\n",
    "feature_list = ['bathrooms', 'bedrooms', 'interest_level']\n",
    "X = data[feature_list]\n",
    "y = data['price']\n",
    "\n",
    "X = np.array(X)\n",
    "y = np.array(y)\n",
    "X_train, X_test, y_train, y_test = train_test_split(X, y, test_size=0.2, random_state=42)\n",
    "\n",
    "poly = PolynomialFeatures(degree=2)\n",
    "X_train_poly = poly.fit_transform(X_train)\n",
    "X_test_poly = poly.transform(X_test)"
   ]
  },
  {
   "cell_type": "code",
   "execution_count": 31,
   "metadata": {},
   "outputs": [],
   "source": [
    "linreg = LinearRegression()\n",
    "mae_train, mae_test, rmse_train, rmse_test, r2_train, r2_test = evaluate_model(linreg, X_train_poly, y_train, X_test_poly, y_test)\n",
    "result_MAE.loc[len(result_MAE)] = ['Linreg Polynomial', mae_train, mae_test]\n",
    "result_RMSE.loc[len(result_RMSE)] = ['Linreg Polynomial', rmse_train, rmse_test]\n",
    "result_R2.loc[len(result_R2)] = ['Linreg Polynomial', r2_train, r2_test]"
   ]
  },
  {
   "cell_type": "code",
   "execution_count": 32,
   "metadata": {},
   "outputs": [],
   "source": [
    "ridgereg = Ridge()\n",
    "mae_train, mae_test, rmse_train, rmse_test, r2_train, r2_test = evaluate_model(ridgereg, X_train_poly, y_train, X_test_poly, y_test)\n",
    "result_MAE.loc[len(result_MAE)] = ['Ridge Polynomial', mae_train, mae_test]\n",
    "result_RMSE.loc[len(result_RMSE)] = ['Ridge Polynomial', rmse_train, rmse_test] \n",
    "result_R2.loc[len(result_R2)] = ['Ridge Polynomial', r2_train, r2_test]"
   ]
  },
  {
   "cell_type": "code",
   "execution_count": 33,
   "metadata": {},
   "outputs": [],
   "source": [
    "mae_train, mae_test, rmse_train, rmse_test, r2_train, r2_test = evaluate_model(lassoreg, X_train_poly, y_train, X_test_poly, y_test)\n",
    "result_MAE.loc[len(result_MAE)] = ['Lasso Polynomial', mae_train, mae_test]\n",
    "result_RMSE.loc[len(result_RMSE)] = ['Lasso Polynomial', rmse_train, rmse_test]\n",
    "result_R2.loc[len(result_R2)] = ['Lasso Polynomial', r2_train, r2_test]"
   ]
  },
  {
   "cell_type": "code",
   "execution_count": 34,
   "metadata": {},
   "outputs": [],
   "source": [
    "mae_train, mae_test, rmse_train, rmse_test, r2_train, r2_test = evaluate_model(elastreg, X_train_poly, y_train, X_test_poly, y_test)\n",
    "result_MAE.loc[len(result_MAE)] = ['ElasticNet Polynomial', mae_train, mae_test]\n",
    "result_RMSE.loc[len(result_RMSE)] = ['ElasticNet Polynomial', rmse_train, rmse_test]\n",
    "result_R2.loc[len(result_R2)] = ['ElasticNet Polynomial', r2_train, r2_test]"
   ]
  },
  {
   "cell_type": "markdown",
   "metadata": {},
   "source": [
    "<h2>Собственные модели<h2>"
   ]
  },
  {
   "cell_type": "code",
   "execution_count": 35,
   "metadata": {},
   "outputs": [],
   "source": [
    "mean_train = y_train.mean()\n",
    "median_train = np.median(y_train)\n",
    "mean_test = y_test.mean()\n",
    "median_test = np.median(y_test)\n",
    "\n",
    "y_pred_train_mean = np.full(len(y_train), mean_train)\n",
    "y_pred_test_mean = np.full(len(y_test), mean_test)\n",
    "y_pred_train_median = np.full(len(y_train), median_train)\n",
    "y_pred_test_median = np.full(len(y_test), median_test)\n",
    "\n",
    "mae_train_mean = mean_absolute_error(y_train, y_pred_train_mean)\n",
    "rmse_train_mean = np.sqrt(mean_squared_error(y_train, y_pred_train_mean))\n",
    "mae_test_mean = mean_absolute_error(y_test, y_pred_test_mean)\n",
    "rmse_test_mean = np.sqrt(mean_squared_error(y_test, y_pred_test_mean))\n",
    "\n",
    "mae_train_median = mean_absolute_error(y_train, y_pred_train_median)\n",
    "rmse_train_median = np.sqrt(mean_squared_error(y_train, y_pred_train_median))\n",
    "mae_test_median = mean_absolute_error(y_test, y_pred_test_median)\n",
    "rmse_test_median = np.sqrt(mean_squared_error(y_test, y_pred_test_median))\n",
    "\n",
    "result_MAE.loc[len(result_MAE)] = ['native_mean', mae_train_mean, mae_test_mean]\n",
    "result_RMSE.loc[len(result_RMSE)] = ['native_mean', rmse_train_mean, rmse_test_mean]\n",
    "result_MAE.loc[len(result_MAE)] = ['native_median', mae_train_median, mae_test_median]\n",
    "result_RMSE.loc[len(result_RMSE)] = ['native_median', rmse_train_median, rmse_test_median]"
   ]
  },
  {
   "cell_type": "markdown",
   "metadata": {},
   "source": [
    "<h2>Сравнительный анализ написанных классов и функций</h2>"
   ]
  },
  {
   "cell_type": "markdown",
   "metadata": {},
   "source": [
    "Сравнение реализации MAE, RMSE, R2"
   ]
  },
  {
   "cell_type": "code",
   "execution_count": 36,
   "metadata": {},
   "outputs": [],
   "source": [
    "def my_evaluate_model(model, X_train, y_train, X_test, y_test):\n",
    "    model.fit(X_train, y_train)\n",
    "    y_train_pred = model.predict(X_train)\n",
    "    y_test_pred = model.predict(X_test)\n",
    "\n",
    "    mae_train = my_mean_absolute_error(y_train, y_train_pred)\n",
    "    mae_test = my_mean_absolute_error(y_test, y_test_pred)\n",
    "\n",
    "    rmse_train = np.sqrt(my_mean_squared_errror(y_train, y_train_pred))\n",
    "    rmse_test = np.sqrt(my_mean_squared_errror(y_test, y_test_pred))\n",
    "\n",
    "    r2_train = my_r2_score(y_train, y_train_pred)\n",
    "    r2_test = my_r2_score(y_test, y_test_pred)\n",
    "\n",
    "    return mae_train, mae_test, rmse_train, rmse_test, r2_train, r2_test"
   ]
  },
  {
   "cell_type": "code",
   "execution_count": 37,
   "metadata": {},
   "outputs": [
    {
     "data": {
      "text/plain": [
       "(708.3734424247251,\n",
       " 705.7827601782207,\n",
       " 973.4168858514256,\n",
       " 967.2937610280286,\n",
       " 0.5027486196058539,\n",
       " 0.5256651712305299)"
      ]
     },
     "execution_count": 37,
     "metadata": {},
     "output_type": "execute_result"
    }
   ],
   "source": [
    "linreg = MyLinearRegression()\n",
    "linres = evaluate_model(linreg, X_train, y_train, X_test, y_test)\n",
    "linres"
   ]
  },
  {
   "cell_type": "code",
   "execution_count": 38,
   "metadata": {},
   "outputs": [
    {
     "data": {
      "text/plain": [
       "(708.3734424247251,\n",
       " 705.7827601782207,\n",
       " 973.4168858514256,\n",
       " 967.2937610280286,\n",
       " 0.5027486196058539,\n",
       " 0.5256651712305299)"
      ]
     },
     "execution_count": 38,
     "metadata": {},
     "output_type": "execute_result"
    }
   ],
   "source": [
    "linres2 = my_evaluate_model(linreg, X_train, y_train, X_test, y_test)\n",
    "linres2"
   ]
  },
  {
   "cell_type": "markdown",
   "metadata": {},
   "source": [
    "Сравнение реализации моделей"
   ]
  },
  {
   "cell_type": "code",
   "execution_count": 39,
   "metadata": {},
   "outputs": [],
   "source": [
    "def compare_models(my_model, sklearn_model, X, y, test_size=0.2, random_state=42):\n",
    "\n",
    "    X_train, X_test, y_train, y_test = train_test_split(X, y, test_size=test_size, random_state=random_state)\n",
    "    \n",
    "    my_model.fit(X_train, y_train)\n",
    "    sklearn_model.fit(X_train, y_train)\n",
    "    \n",
    "    my_predictions = my_model.predict(X_test)\n",
    "    sklearn_predictions = sklearn_model.predict(X_test)\n",
    "\n",
    "    def calculate_metrics(y_true, y_pred):\n",
    "        mse = mean_squared_error(y_true, y_pred)\n",
    "        mae = mean_absolute_error(y_true, y_pred)\n",
    "        rmse = np.sqrt(mse)\n",
    "        return mse, mae, rmse\n",
    "\n",
    "    my_mse, my_mae, my_rmse = calculate_metrics(y_test, my_predictions)\n",
    "    sklearn_mse, sklearn_mae, sklearn_rmse = calculate_metrics(y_test, sklearn_predictions)\n",
    "    print(\"=== Сравнение моделей ===\")\n",
    "\n",
    "    print(\"\\nMAE (мои предсказания):\", my_mae)\n",
    "    print(\"MAE (sklearn):\", sklearn_mae)\n",
    "    print(\"\\nRMSE (мои предсказания):\", my_rmse)\n",
    "    print(\"RMSE (sklearn):\", sklearn_rmse)\n",
    "    print(\"=========================\")"
   ]
  },
  {
   "cell_type": "code",
   "execution_count": 40,
   "metadata": {},
   "outputs": [
    {
     "name": "stdout",
     "output_type": "stream",
     "text": [
      "=== Сравнение моделей ===\n",
      "\n",
      "MAE (мои предсказания): 705.7827601782207\n",
      "MAE (sklearn): 705.7827601782204\n",
      "\n",
      "RMSE (мои предсказания): 967.2937610280286\n",
      "RMSE (sklearn): 967.293761028029\n",
      "=========================\n"
     ]
    }
   ],
   "source": [
    "compare_models(MyLinearRegression(), LinearRegression(), X, y)"
   ]
  },
  {
   "cell_type": "code",
   "execution_count": 41,
   "metadata": {},
   "outputs": [
    {
     "name": "stdout",
     "output_type": "stream",
     "text": [
      "=== Сравнение моделей ===\n",
      "\n",
      "MAE (мои предсказания): 748.6046493703955\n",
      "MAE (sklearn): 705.7829702165654\n",
      "\n",
      "RMSE (мои предсказания): 1048.764398651826\n",
      "RMSE (sklearn): 967.2941923664423\n",
      "=========================\n"
     ]
    }
   ],
   "source": [
    "compare_models(MyRidgeRegression(), Ridge(alpha=0.1), X, y)"
   ]
  },
  {
   "cell_type": "code",
   "execution_count": 42,
   "metadata": {},
   "outputs": [
    {
     "name": "stdout",
     "output_type": "stream",
     "text": [
      "=== Сравнение моделей ===\n",
      "\n",
      "MAE (мои предсказания): 727.0126086894695\n",
      "MAE (sklearn): 705.7832244676124\n",
      "\n",
      "RMSE (мои предсказания): 1017.3243776726925\n",
      "RMSE (sklearn): 967.3049501147191\n",
      "=========================\n"
     ]
    }
   ],
   "source": [
    "compare_models(MyLassoRegression(), Lasso(alpha=0.1), X, y)"
   ]
  },
  {
   "cell_type": "code",
   "execution_count": 43,
   "metadata": {},
   "outputs": [
    {
     "name": "stdout",
     "output_type": "stream",
     "text": [
      "=== Сравнение моделей ===\n",
      "\n",
      "MAE (мои предсказания): 732.8567733163807\n",
      "MAE (sklearn): 716.2800971438973\n",
      "\n",
      "RMSE (мои предсказания): 1029.4152412596436\n",
      "RMSE (sklearn): 982.9396763740614\n",
      "=========================\n"
     ]
    }
   ],
   "source": [
    "compare_models(MyElasticNet(), ElasticNet(alpha=0.1), X, y)"
   ]
  },
  {
   "cell_type": "markdown",
   "metadata": {},
   "source": [
    "Сравнение реализации MinMaxScaler, StandartScaler"
   ]
  },
  {
   "cell_type": "code",
   "execution_count": 44,
   "metadata": {},
   "outputs": [
    {
     "name": "stdout",
     "output_type": "stream",
     "text": [
      "Моя трансформация:\n",
      "[[0.1   0.125 0.5  ]\n",
      " [0.1   0.25  0.   ]\n",
      " [0.1   0.25  0.5  ]\n",
      " ...\n",
      " [0.1   0.125 0.5  ]\n",
      " [0.1   0.25  0.5  ]\n",
      " [0.1   0.375 1.   ]]\n",
      "\n",
      "Оригинальная трансформация (sklearn):\n",
      "[[0.1   0.125 0.5  ]\n",
      " [0.1   0.25  0.   ]\n",
      " [0.1   0.25  0.5  ]\n",
      " ...\n",
      " [0.1   0.125 0.5  ]\n",
      " [0.1   0.25  0.5  ]\n",
      " [0.1   0.375 1.   ]]\n"
     ]
    }
   ],
   "source": [
    "my_scaler = MyMinMaxScaler(feature_range=(0, 1))\n",
    "original_scaler = MinMaxScaler(feature_range=(0, 1))\n",
    "\n",
    "X_my_scaled = my_scaler.fit_transform(X)\n",
    "X_original_scaled = original_scaler.fit_transform(X)\n",
    "\n",
    "print(\"Моя трансформация:\")\n",
    "print(X_my_scaled)\n",
    "\n",
    "print(\"\\nОригинальная трансформация (sklearn):\")\n",
    "print(X_original_scaled)"
   ]
  },
  {
   "cell_type": "code",
   "execution_count": 49,
   "metadata": {},
   "outputs": [
    {
     "name": "stdout",
     "output_type": "stream",
     "text": [
      "Моя трансформация:\n",
      "[[-0.42321298 -0.48341274  1.0175357 ]\n",
      " [-0.42321298  0.43323778 -0.60984835]\n",
      " [-0.42321298  0.43323778  1.0175357 ]\n",
      " ...\n",
      " [-0.42321298 -0.48341274  1.0175357 ]\n",
      " [-0.42321298  0.43323778  1.0175357 ]\n",
      " [-0.42321298  1.34988831  2.64491975]]\n",
      "\n",
      "Оригинальная трансформация (sklearn):\n",
      "[[-0.42321298 -0.48341274  1.0175357 ]\n",
      " [-0.42321298  0.43323778 -0.60984835]\n",
      " [-0.42321298  0.43323778  1.0175357 ]\n",
      " ...\n",
      " [-0.42321298 -0.48341274  1.0175357 ]\n",
      " [-0.42321298  0.43323778  1.0175357 ]\n",
      " [-0.42321298  1.34988831  2.64491975]]\n"
     ]
    }
   ],
   "source": [
    "my_scaler = MyStandardScaler()\n",
    "original_scaler = StandardScaler()\n",
    "\n",
    "X_my_scaled = my_scaler.fit_transform(X)\n",
    "X_original_scaled = original_scaler.fit_transform(X)\n",
    "\n",
    "print(\"Моя трансформация:\")\n",
    "print(X_my_scaled)\n",
    "\n",
    "print(\"\\nОригинальная трансформация (sklearn):\")\n",
    "print(X_original_scaled)"
   ]
  },
  {
   "cell_type": "markdown",
   "metadata": {},
   "source": [
    "<h2>Отображение результатов</h2>"
   ]
  },
  {
   "cell_type": "code",
   "execution_count": 46,
   "metadata": {},
   "outputs": [
    {
     "data": {
      "text/html": [
       "<div>\n",
       "<style scoped>\n",
       "    .dataframe tbody tr th:only-of-type {\n",
       "        vertical-align: middle;\n",
       "    }\n",
       "\n",
       "    .dataframe tbody tr th {\n",
       "        vertical-align: top;\n",
       "    }\n",
       "\n",
       "    .dataframe thead th {\n",
       "        text-align: right;\n",
       "    }\n",
       "</style>\n",
       "<table border=\"1\" class=\"dataframe\">\n",
       "  <thead>\n",
       "    <tr style=\"text-align: right;\">\n",
       "      <th></th>\n",
       "      <th>model</th>\n",
       "      <th>train</th>\n",
       "      <th>test</th>\n",
       "    </tr>\n",
       "  </thead>\n",
       "  <tbody>\n",
       "    <tr>\n",
       "      <th>0</th>\n",
       "      <td>Linreg_default</td>\n",
       "      <td>687.030471</td>\n",
       "      <td>689.010155</td>\n",
       "    </tr>\n",
       "    <tr>\n",
       "      <th>1</th>\n",
       "      <td>Ridge_default</td>\n",
       "      <td>687.026383</td>\n",
       "      <td>689.007983</td>\n",
       "    </tr>\n",
       "    <tr>\n",
       "      <th>2</th>\n",
       "      <td>Lasso_default</td>\n",
       "      <td>686.456083</td>\n",
       "      <td>688.620260</td>\n",
       "    </tr>\n",
       "    <tr>\n",
       "      <th>3</th>\n",
       "      <td>ElasticNet_default</td>\n",
       "      <td>777.012848</td>\n",
       "      <td>785.570801</td>\n",
       "    </tr>\n",
       "    <tr>\n",
       "      <th>4</th>\n",
       "      <td>Linear MinMaxScaler</td>\n",
       "      <td>687.030471</td>\n",
       "      <td>689.010155</td>\n",
       "    </tr>\n",
       "    <tr>\n",
       "      <th>5</th>\n",
       "      <td>Ridge MinMaxScaler</td>\n",
       "      <td>687.156337</td>\n",
       "      <td>689.224459</td>\n",
       "    </tr>\n",
       "    <tr>\n",
       "      <th>6</th>\n",
       "      <td>Lasso MinMaxScaler</td>\n",
       "      <td>686.643240</td>\n",
       "      <td>689.033861</td>\n",
       "    </tr>\n",
       "    <tr>\n",
       "      <th>7</th>\n",
       "      <td>ElasticNet MinMaxScaler</td>\n",
       "      <td>1042.968261</td>\n",
       "      <td>1056.130517</td>\n",
       "    </tr>\n",
       "    <tr>\n",
       "      <th>8</th>\n",
       "      <td>Linear StandartScaler</td>\n",
       "      <td>687.030471</td>\n",
       "      <td>689.010155</td>\n",
       "    </tr>\n",
       "    <tr>\n",
       "      <th>9</th>\n",
       "      <td>Ridge StandartScaler</td>\n",
       "      <td>687.029272</td>\n",
       "      <td>689.009310</td>\n",
       "    </tr>\n",
       "    <tr>\n",
       "      <th>10</th>\n",
       "      <td>Lasso StandartScaler</td>\n",
       "      <td>686.739655</td>\n",
       "      <td>688.838316</td>\n",
       "    </tr>\n",
       "    <tr>\n",
       "      <th>11</th>\n",
       "      <td>ElasticNet StandartScaler</td>\n",
       "      <td>712.392014</td>\n",
       "      <td>717.314149</td>\n",
       "    </tr>\n",
       "    <tr>\n",
       "      <th>12</th>\n",
       "      <td>Linreg Polynomial</td>\n",
       "      <td>708.246488</td>\n",
       "      <td>706.310142</td>\n",
       "    </tr>\n",
       "    <tr>\n",
       "      <th>13</th>\n",
       "      <td>Ridge Polynomial</td>\n",
       "      <td>708.237727</td>\n",
       "      <td>706.298669</td>\n",
       "    </tr>\n",
       "    <tr>\n",
       "      <th>14</th>\n",
       "      <td>Lasso Polynomial</td>\n",
       "      <td>707.828949</td>\n",
       "      <td>705.947682</td>\n",
       "    </tr>\n",
       "    <tr>\n",
       "      <th>15</th>\n",
       "      <td>ElasticNet Polynomial</td>\n",
       "      <td>723.206993</td>\n",
       "      <td>720.974489</td>\n",
       "    </tr>\n",
       "    <tr>\n",
       "      <th>16</th>\n",
       "      <td>native_mean</td>\n",
       "      <td>1042.148064</td>\n",
       "      <td>1056.834295</td>\n",
       "    </tr>\n",
       "    <tr>\n",
       "      <th>17</th>\n",
       "      <td>native_median</td>\n",
       "      <td>1003.787824</td>\n",
       "      <td>1017.053070</td>\n",
       "    </tr>\n",
       "  </tbody>\n",
       "</table>\n",
       "</div>"
      ],
      "text/plain": [
       "                        model        train         test\n",
       "0              Linreg_default   687.030471   689.010155\n",
       "1               Ridge_default   687.026383   689.007983\n",
       "2               Lasso_default   686.456083   688.620260\n",
       "3          ElasticNet_default   777.012848   785.570801\n",
       "4         Linear MinMaxScaler   687.030471   689.010155\n",
       "5          Ridge MinMaxScaler   687.156337   689.224459\n",
       "6          Lasso MinMaxScaler   686.643240   689.033861\n",
       "7     ElasticNet MinMaxScaler  1042.968261  1056.130517\n",
       "8       Linear StandartScaler   687.030471   689.010155\n",
       "9        Ridge StandartScaler   687.029272   689.009310\n",
       "10       Lasso StandartScaler   686.739655   688.838316\n",
       "11  ElasticNet StandartScaler   712.392014   717.314149\n",
       "12          Linreg Polynomial   708.246488   706.310142\n",
       "13           Ridge Polynomial   708.237727   706.298669\n",
       "14           Lasso Polynomial   707.828949   705.947682\n",
       "15      ElasticNet Polynomial   723.206993   720.974489\n",
       "16                native_mean  1042.148064  1056.834295\n",
       "17              native_median  1003.787824  1017.053070"
      ]
     },
     "metadata": {},
     "output_type": "display_data"
    }
   ],
   "source": [
    "display(result_MAE)"
   ]
  },
  {
   "cell_type": "code",
   "execution_count": 47,
   "metadata": {},
   "outputs": [
    {
     "data": {
      "text/html": [
       "<div>\n",
       "<style scoped>\n",
       "    .dataframe tbody tr th:only-of-type {\n",
       "        vertical-align: middle;\n",
       "    }\n",
       "\n",
       "    .dataframe tbody tr th {\n",
       "        vertical-align: top;\n",
       "    }\n",
       "\n",
       "    .dataframe thead th {\n",
       "        text-align: right;\n",
       "    }\n",
       "</style>\n",
       "<table border=\"1\" class=\"dataframe\">\n",
       "  <thead>\n",
       "    <tr style=\"text-align: right;\">\n",
       "      <th></th>\n",
       "      <th>model</th>\n",
       "      <th>train</th>\n",
       "      <th>test</th>\n",
       "    </tr>\n",
       "  </thead>\n",
       "  <tbody>\n",
       "    <tr>\n",
       "      <th>0</th>\n",
       "      <td>Linreg_default</td>\n",
       "      <td>996.991413</td>\n",
       "      <td>994.581205</td>\n",
       "    </tr>\n",
       "    <tr>\n",
       "      <th>1</th>\n",
       "      <td>Ridge_default</td>\n",
       "      <td>996.991419</td>\n",
       "      <td>994.584120</td>\n",
       "    </tr>\n",
       "    <tr>\n",
       "      <th>2</th>\n",
       "      <td>Lasso_default</td>\n",
       "      <td>997.169305</td>\n",
       "      <td>994.928445</td>\n",
       "    </tr>\n",
       "    <tr>\n",
       "      <th>3</th>\n",
       "      <td>ElasticNet_default</td>\n",
       "      <td>1149.730025</td>\n",
       "      <td>1162.750102</td>\n",
       "    </tr>\n",
       "    <tr>\n",
       "      <th>4</th>\n",
       "      <td>Linear MinMaxScaler</td>\n",
       "      <td>996.991413</td>\n",
       "      <td>994.581205</td>\n",
       "    </tr>\n",
       "    <tr>\n",
       "      <th>5</th>\n",
       "      <td>Ridge MinMaxScaler</td>\n",
       "      <td>997.038846</td>\n",
       "      <td>994.791755</td>\n",
       "    </tr>\n",
       "    <tr>\n",
       "      <th>6</th>\n",
       "      <td>Lasso MinMaxScaler</td>\n",
       "      <td>997.408179</td>\n",
       "      <td>995.481857</td>\n",
       "    </tr>\n",
       "    <tr>\n",
       "      <th>7</th>\n",
       "      <td>ElasticNet MinMaxScaler</td>\n",
       "      <td>1466.888691</td>\n",
       "      <td>1489.317723</td>\n",
       "    </tr>\n",
       "    <tr>\n",
       "      <th>8</th>\n",
       "      <td>Linear StandartScaler</td>\n",
       "      <td>996.991413</td>\n",
       "      <td>994.581205</td>\n",
       "    </tr>\n",
       "    <tr>\n",
       "      <th>9</th>\n",
       "      <td>Ridge StandartScaler</td>\n",
       "      <td>996.991413</td>\n",
       "      <td>994.581590</td>\n",
       "    </tr>\n",
       "    <tr>\n",
       "      <th>10</th>\n",
       "      <td>Lasso StandartScaler</td>\n",
       "      <td>997.021961</td>\n",
       "      <td>994.705230</td>\n",
       "    </tr>\n",
       "    <tr>\n",
       "      <th>11</th>\n",
       "      <td>ElasticNet StandartScaler</td>\n",
       "      <td>1042.151026</td>\n",
       "      <td>1045.259179</td>\n",
       "    </tr>\n",
       "    <tr>\n",
       "      <th>12</th>\n",
       "      <td>Linreg Polynomial</td>\n",
       "      <td>970.047756</td>\n",
       "      <td>967.408929</td>\n",
       "    </tr>\n",
       "    <tr>\n",
       "      <th>13</th>\n",
       "      <td>Ridge Polynomial</td>\n",
       "      <td>970.047861</td>\n",
       "      <td>967.393205</td>\n",
       "    </tr>\n",
       "    <tr>\n",
       "      <th>14</th>\n",
       "      <td>Lasso Polynomial</td>\n",
       "      <td>970.171586</td>\n",
       "      <td>967.186792</td>\n",
       "    </tr>\n",
       "    <tr>\n",
       "      <th>15</th>\n",
       "      <td>ElasticNet Polynomial</td>\n",
       "      <td>1002.182101</td>\n",
       "      <td>991.872748</td>\n",
       "    </tr>\n",
       "    <tr>\n",
       "      <th>16</th>\n",
       "      <td>native_mean</td>\n",
       "      <td>1380.418837</td>\n",
       "      <td>1404.481035</td>\n",
       "    </tr>\n",
       "    <tr>\n",
       "      <th>17</th>\n",
       "      <td>native_median</td>\n",
       "      <td>1418.254990</td>\n",
       "      <td>1444.315716</td>\n",
       "    </tr>\n",
       "  </tbody>\n",
       "</table>\n",
       "</div>"
      ],
      "text/plain": [
       "                        model        train         test\n",
       "0              Linreg_default   996.991413   994.581205\n",
       "1               Ridge_default   996.991419   994.584120\n",
       "2               Lasso_default   997.169305   994.928445\n",
       "3          ElasticNet_default  1149.730025  1162.750102\n",
       "4         Linear MinMaxScaler   996.991413   994.581205\n",
       "5          Ridge MinMaxScaler   997.038846   994.791755\n",
       "6          Lasso MinMaxScaler   997.408179   995.481857\n",
       "7     ElasticNet MinMaxScaler  1466.888691  1489.317723\n",
       "8       Linear StandartScaler   996.991413   994.581205\n",
       "9        Ridge StandartScaler   996.991413   994.581590\n",
       "10       Lasso StandartScaler   997.021961   994.705230\n",
       "11  ElasticNet StandartScaler  1042.151026  1045.259179\n",
       "12          Linreg Polynomial   970.047756   967.408929\n",
       "13           Ridge Polynomial   970.047861   967.393205\n",
       "14           Lasso Polynomial   970.171586   967.186792\n",
       "15      ElasticNet Polynomial  1002.182101   991.872748\n",
       "16                native_mean  1380.418837  1404.481035\n",
       "17              native_median  1418.254990  1444.315716"
      ]
     },
     "metadata": {},
     "output_type": "display_data"
    }
   ],
   "source": [
    "display(result_RMSE)"
   ]
  },
  {
   "cell_type": "code",
   "execution_count": 48,
   "metadata": {},
   "outputs": [
    {
     "data": {
      "text/html": [
       "<div>\n",
       "<style scoped>\n",
       "    .dataframe tbody tr th:only-of-type {\n",
       "        vertical-align: middle;\n",
       "    }\n",
       "\n",
       "    .dataframe tbody tr th {\n",
       "        vertical-align: top;\n",
       "    }\n",
       "\n",
       "    .dataframe thead th {\n",
       "        text-align: right;\n",
       "    }\n",
       "</style>\n",
       "<table border=\"1\" class=\"dataframe\">\n",
       "  <thead>\n",
       "    <tr style=\"text-align: right;\">\n",
       "      <th></th>\n",
       "      <th>model</th>\n",
       "      <th>train</th>\n",
       "      <th>test</th>\n",
       "    </tr>\n",
       "  </thead>\n",
       "  <tbody>\n",
       "    <tr>\n",
       "      <th>0</th>\n",
       "      <td>Linreg_default</td>\n",
       "      <td>0.602062</td>\n",
       "      <td>0.616495</td>\n",
       "    </tr>\n",
       "    <tr>\n",
       "      <th>1</th>\n",
       "      <td>Ridge_default</td>\n",
       "      <td>0.602062</td>\n",
       "      <td>0.616493</td>\n",
       "    </tr>\n",
       "    <tr>\n",
       "      <th>2</th>\n",
       "      <td>Lasso_default</td>\n",
       "      <td>0.601920</td>\n",
       "      <td>0.616227</td>\n",
       "    </tr>\n",
       "    <tr>\n",
       "      <th>3</th>\n",
       "      <td>ElasticNet_default</td>\n",
       "      <td>0.470794</td>\n",
       "      <td>0.475841</td>\n",
       "    </tr>\n",
       "    <tr>\n",
       "      <th>4</th>\n",
       "      <td>Linear MinMaxScaler</td>\n",
       "      <td>0.602062</td>\n",
       "      <td>0.616495</td>\n",
       "    </tr>\n",
       "    <tr>\n",
       "      <th>5</th>\n",
       "      <td>Ridge MinMaxScaler</td>\n",
       "      <td>0.602024</td>\n",
       "      <td>0.616333</td>\n",
       "    </tr>\n",
       "    <tr>\n",
       "      <th>6</th>\n",
       "      <td>Lasso MinMaxScaler</td>\n",
       "      <td>0.601729</td>\n",
       "      <td>0.615800</td>\n",
       "    </tr>\n",
       "    <tr>\n",
       "      <th>7</th>\n",
       "      <td>ElasticNet MinMaxScaler</td>\n",
       "      <td>0.138556</td>\n",
       "      <td>0.140066</td>\n",
       "    </tr>\n",
       "    <tr>\n",
       "      <th>8</th>\n",
       "      <td>Linear StandartScaler</td>\n",
       "      <td>0.602062</td>\n",
       "      <td>0.616495</td>\n",
       "    </tr>\n",
       "    <tr>\n",
       "      <th>9</th>\n",
       "      <td>Ridge StandartScaler</td>\n",
       "      <td>0.602062</td>\n",
       "      <td>0.616495</td>\n",
       "    </tr>\n",
       "    <tr>\n",
       "      <th>10</th>\n",
       "      <td>Lasso StandartScaler</td>\n",
       "      <td>0.602038</td>\n",
       "      <td>0.616399</td>\n",
       "    </tr>\n",
       "    <tr>\n",
       "      <th>11</th>\n",
       "      <td>ElasticNet StandartScaler</td>\n",
       "      <td>0.565196</td>\n",
       "      <td>0.576417</td>\n",
       "    </tr>\n",
       "    <tr>\n",
       "      <th>12</th>\n",
       "      <td>Linreg Polynomial</td>\n",
       "      <td>0.506185</td>\n",
       "      <td>0.525552</td>\n",
       "    </tr>\n",
       "    <tr>\n",
       "      <th>13</th>\n",
       "      <td>Ridge Polynomial</td>\n",
       "      <td>0.506185</td>\n",
       "      <td>0.525568</td>\n",
       "    </tr>\n",
       "    <tr>\n",
       "      <th>14</th>\n",
       "      <td>Lasso Polynomial</td>\n",
       "      <td>0.506059</td>\n",
       "      <td>0.525770</td>\n",
       "    </tr>\n",
       "    <tr>\n",
       "      <th>15</th>\n",
       "      <td>ElasticNet Polynomial</td>\n",
       "      <td>0.472926</td>\n",
       "      <td>0.501253</td>\n",
       "    </tr>\n",
       "  </tbody>\n",
       "</table>\n",
       "</div>"
      ],
      "text/plain": [
       "                        model     train      test\n",
       "0              Linreg_default  0.602062  0.616495\n",
       "1               Ridge_default  0.602062  0.616493\n",
       "2               Lasso_default  0.601920  0.616227\n",
       "3          ElasticNet_default  0.470794  0.475841\n",
       "4         Linear MinMaxScaler  0.602062  0.616495\n",
       "5          Ridge MinMaxScaler  0.602024  0.616333\n",
       "6          Lasso MinMaxScaler  0.601729  0.615800\n",
       "7     ElasticNet MinMaxScaler  0.138556  0.140066\n",
       "8       Linear StandartScaler  0.602062  0.616495\n",
       "9        Ridge StandartScaler  0.602062  0.616495\n",
       "10       Lasso StandartScaler  0.602038  0.616399\n",
       "11  ElasticNet StandartScaler  0.565196  0.576417\n",
       "12          Linreg Polynomial  0.506185  0.525552\n",
       "13           Ridge Polynomial  0.506185  0.525568\n",
       "14           Lasso Polynomial  0.506059  0.525770\n",
       "15      ElasticNet Polynomial  0.472926  0.501253"
      ]
     },
     "metadata": {},
     "output_type": "display_data"
    }
   ],
   "source": [
    "display(result_R2)"
   ]
  },
  {
   "cell_type": "markdown",
   "metadata": {},
   "source": [
    "Самая лучшая модель - Lasso MinMaxScaler\n",
    "\n",
    "Самая стабильная модель - LassoMinMaxScaler"
   ]
  }
 ],
 "metadata": {
  "kernelspec": {
   "display_name": "base",
   "language": "python",
   "name": "python3"
  },
  "language_info": {
   "codemirror_mode": {
    "name": "ipython",
    "version": 3
   },
   "file_extension": ".py",
   "mimetype": "text/x-python",
   "name": "python",
   "nbconvert_exporter": "python",
   "pygments_lexer": "ipython3",
   "version": "3.12.7"
  }
 },
 "nbformat": 4,
 "nbformat_minor": 2
}
